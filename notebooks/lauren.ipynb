{
 "cells": [
  {
   "cell_type": "markdown",
   "id": "9ba1b2a4",
   "metadata": {},
   "source": [
    "### 1. Convert all xlsx to csv\n",
    "Background:\n",
    "- Downloaded all datasets related to Passaic River sampling from https://sharepoint.ourpassaic.org/SitePages/Passaic%20River%20Datasets to \"xlsx_to_convert\" directory. Included: sediment, water column, biota sampling. We will need to review the datasets to determine if they arre alike enough to analyze using the same comparisons.\n",
    "- Excluded all datasets related to Newark Bay (OU3) because Newark Bay is outside our geographic scope.\n",
    "- Excluded all Bathymetry (mapping the bottom of the river) datasets because we aren't running an analysis on the physical features or water flow of the River.\n",
    "- Added all Microsoft Access datasets to a separate directory (\"access_to_convert\") because those will need a separate conversion process.\n",
    "\n",
    "\n",
    "Now attempting to add a function to open the xlsx datasets from \"xlsx_to_convert\" directory and save as csv to the \"rawdata\" directory\n",
    "-LK 4/2/2022 at 8am"
   ]
  },
  {
   "cell_type": "code",
   "execution_count": 1,
   "id": "19044a46-7f34-45fa-93f5-4a7f98f8acc2",
   "metadata": {},
   "outputs": [],
   "source": [
    "import pandas as pd\n",
    "from pathlib import Path\n",
    "import numpy as np\n",
    "import os"
   ]
  },
  {
   "cell_type": "code",
   "execution_count": 2,
   "id": "0a841a63",
   "metadata": {},
   "outputs": [],
   "source": [
    "# Original function to convert excel to csv and save as a new csv file\n",
    "\n",
    "def convert_xlsx_to_csv(filename):\n",
    "    filepath = Path(f'../rawdata/xlsx_to_convert/{filename}')\n",
    "    csv_data = pd.read_excel(filepath)\n",
    "    new_filename = filepath.stem\n",
    "    return csv_data.to_csv(f'../rawdata/{new_filename}.csv')"
   ]
  },
  {
   "cell_type": "code",
   "execution_count": 3,
   "id": "8f2d081b",
   "metadata": {},
   "outputs": [],
   "source": [
    "# Testing - it works!\n",
    "# convert_xlsx_to_csv(\"1999 Late Summer-Early Fall ESP Sampling.xlsx\")"
   ]
  },
  {
   "cell_type": "code",
   "execution_count": 4,
   "id": "dfc32bdf",
   "metadata": {},
   "outputs": [],
   "source": [
    "# Now I want to see if we can loop over this folder and convert all of them at once.\n",
    "# First I'm going to print all the xls files to identify those but also test the loop.\n",
    "xlsx_directory = '/Users/laurenkrohn/Documents/GitHub-Local/project_1/environmental-contamination/data/rawdata/xlsx_to_convert'\n",
    "for filename in os.listdir(xlsx_directory):\n",
    "    if filename.endswith('.xls'):\n",
    "        print(filename)"
   ]
  },
  {
   "cell_type": "code",
   "execution_count": 5,
   "id": "d1f4562e",
   "metadata": {},
   "outputs": [],
   "source": [
    "# I'm re-writing the function to include the for loop inside\n",
    "def convert_xlsx_to_csv(xlsx_directory):\n",
    "    for filename in os.listdir(xlsx_directory):\n",
    "        if filename.endswith('.xlsx'):\n",
    "            filepath = Path(f'../rawdata/xlsx_to_convert/{filename}')\n",
    "            csv_data = pd.read_excel(filepath)\n",
    "            new_filename = filepath.stem\n",
    "            csv_data.to_csv(f'../rawdata/{new_filename}.csv')"
   ]
  },
  {
   "cell_type": "code",
   "execution_count": 6,
   "id": "7edeed05",
   "metadata": {},
   "outputs": [],
   "source": [
    "# I converted the xls files first, then the xlsx files\n",
    "xlsx_directory = '../rawdata/xlsx_to_convert'\n",
    "# convert_xlsx_to_csv(xlsx_directory)"
   ]
  },
  {
   "cell_type": "markdown",
   "id": "75a14f69",
   "metadata": {},
   "source": [
    "### 2. Narrow down the columns in our csvs to just the columns we want\n",
    "Background:\n",
    "- In class on 4/2/22 we reviewed the original datasets in excel and identified all columns we want to include in our analysis.\n",
    "- The columns are:\n",
    "['LOC_NAME',\n",
    "'SAMPLE_DATE',\n",
    "'TASK_CODE', \n",
    "'ANALYTIC_METHOD', \n",
    "'CAS_RN', \n",
    "'CHEMICAL_NAME', \n",
    "'REPORT_RESULT_VALUE', \n",
    "'REPORT_RESULT_UNIT', \n",
    "'REPORT_RESULT_LIMIT', \n",
    "'DETECT_FLAG', \n",
    "'REPORTABLE_RESULT', \n",
    "'LONGITUDE', \n",
    "'LATITUDE']\n",
    "Now we want to write a function that slices the datasets into just those columns. Potential issues are:\n",
    "- Different column names"
   ]
  },
  {
   "cell_type": "code",
   "execution_count": 7,
   "id": "9b643b4a",
   "metadata": {},
   "outputs": [],
   "source": [
    "# Write function to open csvs\n",
    "def open_raw_csv(data_directory):\n",
    "    for filename in os.listdir(data_directory):\n",
    "        if filename.endswith('.csv'):\n",
    "            filepath = Path(f'../rawdata/{filename}')\n",
    "            csv_data = pd.read_csv(filepath, parse_dates=True, infer_datetime_format=True)\n",
    "            clean_data = csv_data[['LOC_NAME', 'SAMPLE_DATE', 'TASK_CODE', 'ANALYTIC_METHOD', 'CAS_RN', 'CHEMICAL_NAME', 'REPORT_RESULT_VALUE', 'REPORT_RESULT_UNIT', 'REPORT_RESULT_LIMIT', 'DETECT_FLAG', 'REPORTABLE_RESULT', 'LONGITUDE', 'LATITUDE']]\n",
    "            new_filename = filepath.stem\n",
    "            clean_data.to_csv(f'../cleandata/{new_filename}.csv')"
   ]
  },
  {
   "cell_type": "code",
   "execution_count": null,
   "id": "ffb171a7",
   "metadata": {},
   "outputs": [],
   "source": [
    "raw_csv_directory = '../../data/rawdata'"
   ]
  }
 ],
 "metadata": {
  "kernelspec": {
   "display_name": "Python 3 (ipykernel)",
   "language": "python",
   "name": "python3"
  },
  "language_info": {
   "codemirror_mode": {
    "name": "ipython",
    "version": 3
   },
   "file_extension": ".py",
   "mimetype": "text/x-python",
   "name": "python",
   "nbconvert_exporter": "python",
   "pygments_lexer": "ipython3",
   "version": "3.9.7"
  }
 },
 "nbformat": 4,
 "nbformat_minor": 5
}
