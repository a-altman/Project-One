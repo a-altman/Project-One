{
 "cells": [
  {
   "cell_type": "markdown",
   "id": "064aa5c7",
   "metadata": {},
   "source": [
    "### 1. Convert all xlsx to csv\n",
    "Background:\n",
    "- Downloaded all datasets related to Passaic River sampling from https://sharepoint.ourpassaic.org/SitePages/Passaic%20River%20Datasets to \"xlsx_to_convert\" directory. Included: sediment, water column, biota sampling. We will need to review the datasets to determine if they arre alike enough to analyze using the same comparisons.\n",
    "- Excluded all datasets related to Newark Bay (OU3) because Newark Bay is outside our geographic scope.\n",
    "- Excluded all Bathymetry (mapping the bottom of the river) datasets because we aren't running an analysis on the physical features or water flow of the River.\n",
    "- Added all Microsoft Access datasets to a separate directory (\"access_to_convert\") because those will need a separate conversion process.\n",
    "\n",
    "\n",
    "Now attempting to add a function to open the xlsx datasets from \"xlsx_to_convert\" directory and save as csv to the \"rawdata\" directory\n",
    "-LK 4/2/2022 at 8am"
   ]
  },
  {
   "cell_type": "code",
   "execution_count": 14,
   "id": "1317b2ea-033b-4c27-92af-ab3cb2c1d10e",
   "metadata": {},
   "outputs": [],
   "source": [
    "import pandas as pd\n",
    "from pathlib import Path\n",
    "import numpy as np\n",
    "import os"
   ]
  },
  {
   "cell_type": "code",
   "execution_count": 12,
   "id": "b0fca6d7",
   "metadata": {},
   "outputs": [],
   "source": [
    "def convert_xlsx_to_csv(filename):\n",
    "    filepath = Path(f'../rawdata/xlsx_to_convert/{filename}')\n",
    "    csv_data = pd.read_excel(filepath)\n",
    "    new_filename = filepath.stem\n",
    "    return csv_data.to_csv(f'../rawdata/{new_filename}.csv')"
   ]
  },
  {
   "cell_type": "code",
   "execution_count": 13,
   "id": "ebe768ee",
   "metadata": {},
   "outputs": [],
   "source": [
    "# Testing - it works!\n",
    "convert_xlsx_to_csv(\"1999 Late Summer-Early Fall ESP Sampling.xlsx\")"
   ]
  },
  {
   "cell_type": "code",
   "execution_count": 24,
   "id": "007d69a9",
   "metadata": {},
   "outputs": [
    {
     "name": "stdout",
     "output_type": "stream",
     "text": [
      "2013_EPA-DESA_Post_Hurricane_Sandy_Grab.xls\n",
      "2016_CPG_RM10_9_RA_SPME-Cap_Monitor.xls\n",
      "2012_LBG_Newark_Bay_SedFlume_Atterberg.xls\n"
     ]
    }
   ],
   "source": [
    "# Now I want to see if we can loop over this folder and convert all of them at once.\n",
    "xlsx_directory = '../rawdata/xlsx_to_convert'\n",
    "for filename in os.listdir(xlsx_directory):\n",
    "    if filename.endswith('.xls'):\n",
    "        print(filename)"
   ]
  },
  {
   "cell_type": "code",
   "execution_count": 47,
   "id": "4517a35e",
   "metadata": {},
   "outputs": [],
   "source": [
    "# I'm re-writing the function to include the for loop inside\n",
    "def convert_xlsx_to_csv(xlsx_directory):\n",
    "    for filename in os.listdir(xlsx_directory):\n",
    "        if filename.endswith('.xlsx'):\n",
    "            filepath = Path(f'../rawdata/xlsx_to_convert/{filename}')\n",
    "            csv_data = pd.read_excel(filepath)\n",
    "            new_filename = filepath.stem\n",
    "            csv_data.to_csv(f'../rawdata/{new_filename}.csv')\n",
    "        else:\n",
    "            pass\n"
   ]
  },
  {
   "cell_type": "code",
   "execution_count": 48,
   "id": "dd25d2cf",
   "metadata": {},
   "outputs": [],
   "source": [
    "xlsx_directory = '../rawdata/xlsx_to_convert'\n",
    "convert_xlsx_to_csv(xlsx_directory)"
   ]
  },
  {
   "cell_type": "code",
   "execution_count": null,
   "id": "1575c24b",
   "metadata": {},
   "outputs": [],
   "source": []
  }
 ],
 "metadata": {
  "kernelspec": {
   "display_name": "Python 3 (ipykernel)",
   "language": "python",
   "name": "python3"
  },
  "language_info": {
   "codemirror_mode": {
    "name": "ipython",
    "version": 3
   },
   "file_extension": ".py",
   "mimetype": "text/x-python",
   "name": "python",
   "nbconvert_exporter": "python",
   "pygments_lexer": "ipython3",
   "version": "3.9.7"
  }
 },
 "nbformat": 4,
 "nbformat_minor": 5
}
