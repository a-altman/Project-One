{
 "cells": [
  {
   "cell_type": "code",
   "execution_count": 3,
   "id": "e96ba58f-c111-4295-bb95-3ef3fa426b7c",
   "metadata": {},
   "outputs": [],
   "source": [
    "import pandas as pd\n",
    "from pathlib import Path\n",
    "import numpy as np\n",
    "import os"
   ]
  },
  {
   "cell_type": "code",
   "execution_count": 4,
   "id": "567249fa",
   "metadata": {},
   "outputs": [],
   "source": [
    "contaminants_data = []\n",
    "\n",
    "contaminants_list = [\"2,3,7,8-Tetrachlorodibenzo-p-dioxin\",\"Dieldrin\",\"Hexachlorobiphenyl; 3,3',4,4',5,5'- (PCB 169)\",\"Pentachlorobiphenyl; 3,3',4,4',5- (PCB 126)\",\"Mercury\",\"Lead\",\"Cyanide\"]\n",
    "clean_data_dir = '../cleandata'\n",
    "\n",
    "for filename in os.listdir(clean_data_dir):\n",
    "    if filename.endswith(\".csv\"):\n",
    "        csv_data = pd.read_csv(filename, parse_dates=True, infer_datetime_format=True)\n",
    "        for item in contaminants_list:\n",
    "            contaminants_filtered = csv_data[csv_data['CHEMICAL_NAME'] == item]\n",
    "            contaminants_filtered = contaminants_filtered.iloc[: , 1:]\n",
    "            contaminants_data.append(contaminants_filtered)\n",
    "\n",
    "contaminants_df = pd.concat(contaminants_data)"
   ]
  },
  {
   "cell_type": "code",
   "execution_count": 6,
   "id": "57c1f7f3",
   "metadata": {},
   "outputs": [],
   "source": [
    "\n",
    "contaminants_df.to_csv('../../notebooks/chemical_filter.csv')\n",
    "\n",
    "\n",
    "\n",
    "\n",
    "\n"
   ]
  },
  {
   "cell_type": "code",
   "execution_count": null,
   "id": "3f1a5bd0",
   "metadata": {},
   "outputs": [],
   "source": []
  }
 ],
 "metadata": {
  "kernelspec": {
   "display_name": "Python 3 (ipykernel)",
   "language": "python",
   "name": "python3"
  },
  "language_info": {
   "codemirror_mode": {
    "name": "ipython",
    "version": 3
   },
   "file_extension": ".py",
   "mimetype": "text/x-python",
   "name": "python",
   "nbconvert_exporter": "python",
   "pygments_lexer": "ipython3",
   "version": "3.9.7"
  }
 },
 "nbformat": 4,
 "nbformat_minor": 5
}
